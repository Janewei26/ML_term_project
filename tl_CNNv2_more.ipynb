{
 "cells": [
  {
   "cell_type": "code",
   "execution_count": 1,
   "metadata": {
    "collapsed": false,
    "scrolled": true
   },
   "outputs": [],
   "source": [
    "import numpy as np\n",
    "import pandas as pd\n",
    "import matplotlib.pyplot as plt\n",
    "import matplotlib.image as mpimg\n",
    "import time\n",
    "%matplotlib inline\n",
    "\n",
    "import tensorflow as tf\n",
    "import tensorlayer as tl\n",
    "from tensorlayer.layers import set_keep, Conv2d, MaxPool2d, DenseLayer, InputLayer, FlattenLayer, DropoutLayer\n",
    "from tensorlayer.prepro import samplewise_norm, channel_shift_multi\n",
    "import numpy as np\n",
    "import time\n",
    "from sklearn.model_selection import train_test_split\n",
    "\n",
    "from scipy.io import loadmat"
   ]
  },
  {
   "cell_type": "code",
   "execution_count": 4,
   "metadata": {
    "collapsed": false
   },
   "outputs": [
    {
     "data": {
      "text/plain": [
       "'mat = loadmat(\"data/train_32x32.mat\")\\nmat[\\'X\\'] = mat[\\'X\\'].transpose(3, 0, 1, 2)\\n\\nx_train = mat[\\'X\\']\\ny_train = mat[\\'y\\'].reshape(-1, )\\ny_train[y_train == 10] = 0\\n\\nx_train, x_val, y_train, y_val = train_test_split(x_train, y_train, test_size=0.1, random_state=1)\\ndel mat\\nprint(x_train.shape)\\nprint(x_val.shape)\\nprint(y_train.shape)\\nprint(y_val.shape)\\n\\nplt.imshow(x_train[0])\\nprint(y_train[0])'"
      ]
     },
     "execution_count": 4,
     "metadata": {},
     "output_type": "execute_result"
    }
   ],
   "source": [
    "'''mat = loadmat(\"data/train_32x32.mat\")\n",
    "mat['X'] = mat['X'].transpose(3, 0, 1, 2)\n",
    "\n",
    "x_train = mat['X']\n",
    "y_train = mat['y'].reshape(-1, )\n",
    "y_train[y_train == 10] = 0\n",
    "\n",
    "x_train, x_val, y_train, y_val = train_test_split(x_train, y_train, test_size=0.1, random_state=1)\n",
    "del mat\n",
    "print(x_train.shape)\n",
    "print(x_val.shape)\n",
    "print(y_train.shape)\n",
    "print(y_val.shape)\n",
    "\n",
    "plt.imshow(x_train[0])\n",
    "print(y_train[0])'''"
   ]
  },
  {
   "cell_type": "code",
   "execution_count": 2,
   "metadata": {
    "collapsed": false
   },
   "outputs": [
    {
     "name": "stdout",
     "output_type": "stream",
     "text": [
      "(424904, 32, 32, 3)\n",
      "(106227, 32, 32, 3)\n",
      "(424904,)\n",
      "(106227,)\n",
      "4\n"
     ]
    },
    {
     "data": {
      "image/png": "[encoded data removed]",
      "text/plain": [
       "<matplotlib.figure.Figure at 0x201077cf358>"
      ]
     },
     "metadata": {},
     "output_type": "display_data"
    }
   ],
   "source": [
    "mat = loadmat(\"data/extra_32x32.mat\")\n",
    "\n",
    "mat['X'] = mat['X'].transpose(3, 0, 1, 2)\n",
    "\n",
    "x_train = mat['X']\n",
    "y_train = mat['y'].reshape(-1, )\n",
    "y_train[y_train == 10] = 0\n",
    "del mat\n",
    "\n",
    "x_train, x_val, y_train, y_val = train_test_split(x_train, y_train, test_size=0.2, random_state=1)\n",
    "\n",
    "print(x_train.shape)\n",
    "print(x_val.shape)\n",
    "print(y_train.shape)\n",
    "print(y_val.shape)\n",
    "\n",
    "plt.imshow(x_train[0])\n",
    "print(y_train[0])"
   ]
  },
  {
   "cell_type": "code",
   "execution_count": 3,
   "metadata": {
    "collapsed": false,
    "scrolled": false
   },
   "outputs": [
    {
     "name": "stdout",
     "output_type": "stream",
     "text": [
      "  tensorlayer:Instantiate InputLayer  input_layer: (?, 32, 32, 3)\n",
      "  tensorlayer:Instantiate Conv2dLayer cnn_layer1: [3, 3, 3, 16], [1, 1, 1, 1], SAME, elu\n",
      "  tensorlayer:Instantiate Conv2dLayer cnn_layer2: [3, 3, 16, 16], [1, 1, 1, 1], SAME, elu\n",
      "  tensorlayer:Instantiate Conv2dLayer cnn_layer3: [3, 3, 16, 16], [1, 1, 1, 1], SAME, elu\n",
      "  tensorlayer:Instantiate PoolLayer   pool_layer1: [1, 2, 2, 1], [1, 2, 2, 1], SAME, max_pool\n",
      "  tensorlayer:Instantiate Conv2dLayer cnn_layer4: [3, 3, 16, 32], [1, 1, 1, 1], SAME, elu\n",
      "  tensorlayer:Instantiate Conv2dLayer cnn_layer5: [3, 3, 32, 32], [1, 1, 1, 1], SAME, elu\n",
      "  tensorlayer:Instantiate Conv2dLayer cnn_layer6: [3, 3, 32, 32], [1, 1, 1, 1], SAME, elu\n",
      "  tensorlayer:Instantiate PoolLayer   pool_layer2: [1, 2, 2, 1], [1, 2, 2, 1], SAME, max_pool\n",
      "  tensorlayer:Instantiate Conv2dLayer cnn_layer7: [3, 3, 32, 64], [1, 1, 1, 1], SAME, elu\n",
      "  tensorlayer:Instantiate Conv2dLayer cnn_layer8: [3, 3, 64, 64], [1, 1, 1, 1], SAME, elu\n",
      "  tensorlayer:Instantiate Conv2dLayer cnn_layer9: [3, 3, 64, 64], [1, 1, 1, 1], SAME, elu\n",
      "  tensorlayer:Instantiate FlattenLayer flatten_layer: 4096\n",
      "  tensorlayer:Instantiate DropoutLayer dropout_layer1: keep: 0.500000 is_fix: False\n",
      "  tensorlayer:Instantiate DenseLayer  dense_layer1: 512, relu\n",
      "  tensorlayer:Instantiate DropoutLayer dropout_layer2: keep: 0.500000 is_fix: False\n",
      "  tensorlayer:Instantiate DenseLayer  dense_layer2: 10, identity\n"
     ]
    }
   ],
   "source": [
    "sess = tf.InteractiveSession()\n",
    "\n",
    "x = tf.placeholder(tf.float32, shape = [None, 32, 32, 3], name='x')\n",
    "y_ = tf.placeholder(tf.int64, shape = [None, ], name=\"y_\")\n",
    "\n",
    "network = InputLayer(x, name=\"input_layer\")\n",
    "network = Conv2d(network, n_filter=16, filter_size=(3, 3), strides=(1, 1),\n",
    "                act=tf.nn.elu, padding='SAME', name='cnn_layer1')\n",
    "network = Conv2d(network, n_filter=16, filter_size=(3, 3), strides=(1, 1),\n",
    "                act=tf.nn.elu, padding='SAME', name='cnn_layer2')\n",
    "network = Conv2d(network, n_filter=16, filter_size=(3, 3), strides=(1, 1),\n",
    "                act=tf.nn.elu, padding='SAME', name='cnn_layer3')\n",
    "\n",
    "network = MaxPool2d(network, filter_size=(2, 2), strides=(2, 2), \n",
    "                    padding='SAME', name='pool_layer1')\n",
    "network = Conv2d(network, n_filter=32, filter_size=(3, 3), strides=(1, 1),\n",
    "                act=tf.nn.elu, padding='SAME', name='cnn_layer4')\n",
    "network = Conv2d(network, n_filter=32, filter_size=(3, 3), strides=(1, 1),\n",
    "                act=tf.nn.elu, padding='SAME', name='cnn_layer5')\n",
    "network = Conv2d(network, n_filter=32, filter_size=(3, 3), strides=(1, 1),\n",
    "                act=tf.nn.elu, padding='SAME', name='cnn_layer6')\n",
    "\n",
    "network = MaxPool2d(network, filter_size=(2, 2), strides=(2, 2), \n",
    "                    padding='SAME', name='pool_layer2')\n",
    "network = Conv2d(network, n_filter=64, filter_size=(3, 3), strides=(1, 1),\n",
    "                act=tf.nn.elu, padding='SAME', name='cnn_layer7')\n",
    "network = Conv2d(network, n_filter=64, filter_size=(3, 3), strides=(1, 1),\n",
    "                act=tf.nn.elu, padding='SAME', name='cnn_layer8')\n",
    "network = Conv2d(network, n_filter=64, filter_size=(3, 3), strides=(1, 1),\n",
    "                act=tf.nn.elu, padding='SAME', name='cnn_layer9')\n",
    "\n",
    "network = FlattenLayer(network, name='flatten_layer') \n",
    "network = DropoutLayer(network, keep=0.5 ,name='dropout_layer1')\n",
    "network = DenseLayer(network, n_units=512, act=tf.nn.relu,name='dense_layer1')\n",
    "network = DropoutLayer(network, keep=0.5 ,name='dropout_layer2')\n",
    "network = DenseLayer(network, n_units=10, act=tf.identity,name='dense_layer2')\n",
    "\n",
    "y = network.outputs\n",
    "ce = tf.reduce_mean(tf.nn.sparse_softmax_cross_entropy_with_logits(y, y_))\n",
    "cost = ce\n",
    "\n",
    "correct_prediction = tf.equal(tf.argmax(y, 1), y_)\n",
    "acc = tf.reduce_mean(tf.cast(correct_prediction, tf.float32))\n",
    "y_op = tf.argmax(tf.nn.softmax(y), 1)\n",
    "\n",
    "train_params = network.all_params\n",
    "train_op = tf.train.AdamOptimizer(learning_rate=1e-6, beta1=0.9, beta2=0.999,\n",
    "                            epsilon=1e-08, use_locking=False).minimize(cost, var_list=train_params)\n",
    "tl.layers.initialize_global_variables(sess)"
   ]
  },
  {
   "cell_type": "code",
   "execution_count": null,
   "metadata": {
    "collapsed": false,
    "scrolled": true
   },
   "outputs": [
    {
     "name": "stdout",
     "output_type": "stream",
     "text": [
      "  layer 0: Tensor(\"cnn_layer1/Elu:0\", shape=(?, 32, 32, 16), dtype=float32)\n",
      "  layer 1: Tensor(\"cnn_layer2/Elu:0\", shape=(?, 32, 32, 16), dtype=float32)\n",
      "  layer 2: Tensor(\"cnn_layer3/Elu:0\", shape=(?, 32, 32, 16), dtype=float32)\n",
      "  layer 3: Tensor(\"pool_layer1:0\", shape=(?, 16, 16, 16), dtype=float32)\n",
      "  layer 4: Tensor(\"cnn_layer4/Elu:0\", shape=(?, 16, 16, 32), dtype=float32)\n",
      "  layer 5: Tensor(\"cnn_layer5/Elu:0\", shape=(?, 16, 16, 32), dtype=float32)\n",
      "  layer 6: Tensor(\"cnn_layer6/Elu:0\", shape=(?, 16, 16, 32), dtype=float32)\n",
      "  layer 7: Tensor(\"pool_layer2:0\", shape=(?, 8, 8, 32), dtype=float32)\n",
      "  layer 8: Tensor(\"cnn_layer7/Elu:0\", shape=(?, 8, 8, 64), dtype=float32)\n",
      "  layer 9: Tensor(\"cnn_layer8/Elu:0\", shape=(?, 8, 8, 64), dtype=float32)\n",
      "  layer 10: Tensor(\"cnn_layer9/Elu:0\", shape=(?, 8, 8, 64), dtype=float32)\n",
      "  layer 11: Tensor(\"flatten_layer:0\", shape=(?, 4096), dtype=float32)\n",
      "  layer 12: Tensor(\"dropout_layer1/mul:0\", shape=(?, 4096), dtype=float32)\n",
      "  layer 13: Tensor(\"dense_layer1/Relu:0\", shape=(?, 512), dtype=float32)\n",
      "  layer 14: Tensor(\"dropout_layer2/mul:0\", shape=(?, 512), dtype=float32)\n",
      "  layer 15: Tensor(\"dense_layer2/Identity:0\", shape=(?, 10), dtype=float32)\n"
     ]
    }
   ],
   "source": [
    "# initialize all variables in the session\n",
    "'''fine_tune_train_op = tf.train.AdamOptimizer(learning_rate=1e-7, beta1=0.9, beta2=0.999,\n",
    "                            epsilon=1e-08, use_locking=False).minimize(cost, var_list=train_params)'''\n",
    "tl.layers.initialize_global_variables(sess)\n",
    "load_params = tl.files.load_npz(path='', name=\"models/tf.CNNV0.2.1_0.930385_2017-02-13-15-16-18.npz\")\n",
    "tl.files.assign_params(sess, load_params, network)\n",
    "# print network information\n",
    "#network.print_params()\n",
    "network.print_layers()"
   ]
  },
  {
   "cell_type": "code",
   "execution_count": null,
   "metadata": {
    "collapsed": false,
    "scrolled": true
   },
   "outputs": [
    {
     "name": "stdout",
     "output_type": "stream",
     "text": [
      "Start training the network ...\n"
     ]
    }
   ],
   "source": [
    "tl.utils.fit(sess, network, train_op, cost, x_train, y_train, x, y_,\n",
    "             X_val=x_val, y_val=y_val, acc=acc, batch_size=500, \n",
    "             n_epoch=100, print_freq=1, eval_train=True)"
   ]
  },
  {
   "cell_type": "markdown",
   "metadata": {},
   "source": [
    "Then we fine tune the model"
   ]
  },
  {
   "cell_type": "code",
   "execution_count": null,
   "metadata": {
    "collapsed": false,
    "scrolled": true
   },
   "outputs": [],
   "source": [
    "validation_accu = tl.utils.test(sess, network, acc, x_val, y_val, x, y_, batch_size=256);"
   ]
  },
  {
   "cell_type": "code",
   "execution_count": 8,
   "metadata": {
    "collapsed": false,
    "scrolled": true
   },
   "outputs": [
    {
     "name": "stdout",
     "output_type": "stream",
     "text": [
      "Model is saved to: models/tf.CNNV0.2.1_0.930385_2017-02-13-15-16-18.npz\n"
     ]
    }
   ],
   "source": [
    "file_name = time.strftime(time.strftime(\"%Y-%m-%d-%H-%M-%S\", time.localtime()))\n",
    "tl.files.save_npz(network.all_params , name=\"models/tf.CNNV0.2.1_\" + str(0.930385) + \"_\" + file_name + \".npz\")"
   ]
  },
  {
   "cell_type": "code",
   "execution_count": 20,
   "metadata": {
    "collapsed": true
   },
   "outputs": [],
   "source": [
    "x_test = pd.read_csv(\"data/test.csv\")"
   ]
  },
  {
   "cell_type": "code",
   "execution_count": 21,
   "metadata": {
    "collapsed": true
   },
   "outputs": [],
   "source": [
    "x_test = np.array(x_test).reshape(32, 32, 3, -1).transpose(3,0,1,2)"
   ]
  },
  {
   "cell_type": "code",
   "execution_count": 29,
   "metadata": {
    "collapsed": false,
    "scrolled": false
   },
   "outputs": [
    {
     "data": {
      "text/plain": [
       "<matplotlib.image.AxesImage at 0x20a2c474080>"
      ]
     },
     "execution_count": 29,
     "metadata": {},
     "output_type": "execute_result"
    },
    {
     "data": {
      "image/png": "[encoded data removed]",
      "text/plain": [
       "<matplotlib.figure.Figure at 0x20a77d9e198>"
      ]
     },
     "metadata": {},
     "output_type": "display_data"
    }
   ],
   "source": [
    "plt.imshow(x_test[1217].astype(\"uint8\"))"
   ]
  },
  {
   "cell_type": "code",
   "execution_count": 30,
   "metadata": {
    "collapsed": false
   },
   "outputs": [
    {
     "data": {
      "text/plain": [
       "array([6], dtype=int64)"
      ]
     },
     "execution_count": 30,
     "metadata": {},
     "output_type": "execute_result"
    }
   ],
   "source": [
    "tl.utils.predict(sess, network, x_test[1217].reshape(-1,32,32,3), x, y_op)"
   ]
  },
  {
   "cell_type": "code",
   "execution_count": 24,
   "metadata": {
    "collapsed": false
   },
   "outputs": [
    {
     "name": "stdout",
     "output_type": "stream",
     "text": [
      "Submission file created!\n"
     ]
    }
   ],
   "source": [
    "res_list = list()\n",
    "for i in x_test:\n",
    "    pred = tl.utils.predict(sess, network, i.reshape(-1,32,32,3), x, y_op)[0]\n",
    "    res_list.append(pred)\n",
    "\n",
    "res_list = np.array(res_list)\n",
    "res_list[res_list == 0] = 10\n",
    "\n",
    "res_output = pd.DataFrame({\n",
    "    \"ImageId\": range(len(res_list)),\n",
    "    \"label\": res_list\n",
    "})\n",
    "filename = \"res_\" + time.strftime(time.strftime(\"%Y-%m-%d-%H-%M-%S\", time.localtime())) + \".csv\"\n",
    "res_output.to_csv(filename, index=False)\n",
    "\n",
    "print(\"Submission file created!\")"
   ]
  }
 ],
 "metadata": {
  "anaconda-cloud": {},
  "kernelspec": {
   "display_name": "Python 3",
   "language": "python",
   "name": "python3"
  },
  "language_info": {
   "codemirror_mode": {
    "name": "ipython",
    "version": 3
   },
   "file_extension": ".py",
   "mimetype": "text/x-python",
   "name": "python",
   "nbconvert_exporter": "python",
   "pygments_lexer": "ipython3",
   "version": "3.5.2"
  }
 },
 "nbformat": 4,
 "nbformat_minor": 2
}
