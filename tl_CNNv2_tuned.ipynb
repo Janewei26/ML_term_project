{
 "cells": [
  {
   "cell_type": "code",
   "execution_count": 1,
   "metadata": {
    "collapsed": false,
    "scrolled": true
   },
   "outputs": [],
   "source": [
    "import numpy as np\n",
    "import pandas as pd\n",
    "import matplotlib.pyplot as plt\n",
    "import matplotlib.image as mpimg\n",
    "import time\n",
    "%matplotlib inline\n",
    "\n",
    "import tensorflow as tf\n",
    "import tensorlayer as tl\n",
    "from tensorlayer.layers import set_keep, Conv2d, MaxPool2d, DenseLayer, InputLayer, FlattenLayer, DropoutLayer\n",
    "from tensorlayer.prepro import samplewise_norm \n",
    "import numpy as np\n",
    "import time\n",
    "from sklearn.model_selection import train_test_split"
   ]
  },
  {
   "cell_type": "code",
   "execution_count": null,
   "metadata": {
    "collapsed": false
   },
   "outputs": [],
   "source": [
    "x_train = pd.read_csv(\"data/extra.csv\")\n",
    "\n",
    "y_train = x_train[\"label\"]\n",
    "y_train = np.array(y_train).reshape(-1, )\n",
    "y_train[y_train == 10] = 0\n",
    "\n",
    "# normalization\n",
    "x_train = x_train.drop(\"label\", axis=1)\n",
    "x_train = np.array(x_train).reshape(32, 32, 3, -1).transpose(3,0,1,2)\n",
    "x_train = samplewise_norm(x_train, channel_index=3, samplewise_center=True, samplewise_std_normalization=True)"
   ]
  },
  {
   "cell_type": "code",
   "execution_count": 3,
   "metadata": {
    "collapsed": false,
    "scrolled": true
   },
   "outputs": [
    {
     "name": "stdout",
     "output_type": "stream",
     "text": [
      "(65931, 32, 32, 3)\n",
      "(7326, 32, 32, 3)\n",
      "(65931,)\n",
      "(7326,)\n"
     ]
    }
   ],
   "source": [
    "x_train, x_val, y_train, y_val = train_test_split(x_train, y_train, test_size=0.1, random_state=1)\n",
    "print(x_train.shape)\n",
    "print(x_val.shape)\n",
    "print(y_train.shape)\n",
    "print(y_val.shape)"
   ]
  },
  {
   "cell_type": "code",
   "execution_count": 4,
   "metadata": {
    "collapsed": false,
    "scrolled": false
   },
   "outputs": [
    {
     "name": "stdout",
     "output_type": "stream",
     "text": [
      "  tensorlayer:Instantiate InputLayer  input_layer: (?, 32, 32, 3)\n",
      "  tensorlayer:Instantiate Conv2dLayer cnn_layer1: [3, 3, 3, 16], [1, 1, 1, 1], SAME, elu\n",
      "  tensorlayer:Instantiate Conv2dLayer cnn_layer2: [3, 3, 16, 16], [1, 1, 1, 1], SAME, elu\n",
      "  tensorlayer:Instantiate Conv2dLayer cnn_layer3: [3, 3, 16, 16], [1, 1, 1, 1], SAME, elu\n",
      "  tensorlayer:Instantiate PoolLayer   pool_layer1: [1, 2, 2, 1], [1, 2, 2, 1], SAME, max_pool\n",
      "  tensorlayer:Instantiate Conv2dLayer cnn_layer4: [3, 3, 16, 32], [1, 1, 1, 1], SAME, elu\n",
      "  tensorlayer:Instantiate Conv2dLayer cnn_layer5: [3, 3, 32, 32], [1, 1, 1, 1], SAME, elu\n",
      "  tensorlayer:Instantiate Conv2dLayer cnn_layer6: [3, 3, 32, 32], [1, 1, 1, 1], SAME, elu\n",
      "  tensorlayer:Instantiate PoolLayer   pool_layer2: [1, 2, 2, 1], [1, 2, 2, 1], SAME, max_pool\n",
      "  tensorlayer:Instantiate Conv2dLayer cnn_layer7: [3, 3, 32, 64], [1, 1, 1, 1], SAME, elu\n",
      "  tensorlayer:Instantiate Conv2dLayer cnn_layer8: [3, 3, 64, 64], [1, 1, 1, 1], SAME, elu\n",
      "  tensorlayer:Instantiate Conv2dLayer cnn_layer9: [3, 3, 64, 64], [1, 1, 1, 1], SAME, elu\n",
      "  tensorlayer:Instantiate FlattenLayer flatten_layer: 4096\n",
      "  tensorlayer:Instantiate DropoutLayer dropout_layer1: keep: 0.500000 is_fix: False\n",
      "  tensorlayer:Instantiate DenseLayer  dense_layer1: 512, relu\n",
      "  tensorlayer:Instantiate DropoutLayer dropout_layer2: keep: 0.500000 is_fix: False\n",
      "  tensorlayer:Instantiate DenseLayer  dense_layer2: 10, identity\n"
     ]
    }
   ],
   "source": [
    "sess = tf.InteractiveSession()\n",
    "\n",
    "x = tf.placeholder(tf.float32, shape = [None, 32, 32, 3], name='x')\n",
    "y_ = tf.placeholder(tf.int64, shape = [None, ], name=\"y_\")\n",
    "\n",
    "network = InputLayer(x, name=\"input_layer\")\n",
    "network = Conv2d(network, n_filter=16, filter_size=(3, 3), strides=(1, 1),\n",
    "                act=tf.nn.elu, padding='SAME', name='cnn_layer1')\n",
    "network = Conv2d(network, n_filter=16, filter_size=(3, 3), strides=(1, 1),\n",
    "                act=tf.nn.elu, padding='SAME', name='cnn_layer2')\n",
    "network = Conv2d(network, n_filter=16, filter_size=(3, 3), strides=(1, 1),\n",
    "                act=tf.nn.elu, padding='SAME', name='cnn_layer3')\n",
    "\n",
    "network = MaxPool2d(network, filter_size=(2, 2), strides=(2, 2), \n",
    "                    padding='SAME', name='pool_layer1')\n",
    "network = Conv2d(network, n_filter=32, filter_size=(3, 3), strides=(1, 1),\n",
    "                act=tf.nn.elu, padding='SAME', name='cnn_layer4')\n",
    "network = Conv2d(network, n_filter=32, filter_size=(3, 3), strides=(1, 1),\n",
    "                act=tf.nn.elu, padding='SAME', name='cnn_layer5')\n",
    "network = Conv2d(network, n_filter=32, filter_size=(3, 3), strides=(1, 1),\n",
    "                act=tf.nn.elu, padding='SAME', name='cnn_layer6')\n",
    "\n",
    "network = MaxPool2d(network, filter_size=(2, 2), strides=(2, 2), \n",
    "                    padding='SAME', name='pool_layer2')\n",
    "network = Conv2d(network, n_filter=64, filter_size=(3, 3), strides=(1, 1),\n",
    "                act=tf.nn.elu, padding='SAME', name='cnn_layer7')\n",
    "network = Conv2d(network, n_filter=64, filter_size=(3, 3), strides=(1, 1),\n",
    "                act=tf.nn.elu, padding='SAME', name='cnn_layer8')\n",
    "network = Conv2d(network, n_filter=64, filter_size=(3, 3), strides=(1, 1),\n",
    "                act=tf.nn.elu, padding='SAME', name='cnn_layer9')\n",
    "\n",
    "network = FlattenLayer(network, name='flatten_layer') \n",
    "network = DropoutLayer(network, keep=0.5 ,name='dropout_layer1')\n",
    "network = DenseLayer(network, n_units=512, act=tf.nn.relu,name='dense_layer1')\n",
    "network = DropoutLayer(network, keep=0.5 ,name='dropout_layer2')\n",
    "network = DenseLayer(network, n_units=10, act=tf.identity,name='dense_layer2')\n",
    "\n",
    "y = network.outputs\n",
    "ce = tf.reduce_mean(tf.nn.sparse_softmax_cross_entropy_with_logits(y, y_))\n",
    "cost = ce\n",
    "\n",
    "correct_prediction = tf.equal(tf.argmax(y, 1), y_)\n",
    "acc = tf.reduce_mean(tf.cast(correct_prediction, tf.float32))\n",
    "y_op = tf.argmax(tf.nn.softmax(y), 1)\n",
    "\n",
    "train_params = network.all_params\n",
    "train_op = tf.train.AdamOptimizer(learning_rate=1e-4, beta1=0.9, beta2=0.999,\n",
    "                            epsilon=1e-08, use_locking=False).minimize(cost, var_list=train_params)\n",
    "tl.layers.initialize_global_variables(sess)"
   ]
  },
  {
   "cell_type": "code",
   "execution_count": 5,
   "metadata": {
    "collapsed": false,
    "scrolled": true
   },
   "outputs": [
    {
     "data": {
      "text/plain": [
       "'# initialize all variables in the session\\nfine_tune_train_op = tf.train.AdamOptimizer(learning_rate=1e-7, beta1=0.9, beta2=0.999,\\n                            epsilon=1e-08, use_locking=False).minimize(cost, var_list=train_params)\\ntl.layers.initialize_global_variables(sess)\\nload_params = tl.files.load_npz(path=\\'\\', name=\"tf.CNNV0.2.1_0.938058_2017-02-12-23-44-37.npz\")\\ntl.files.assign_params(sess, load_params, network)\\n# print network information\\n#network.print_params()\\nnetwork.print_layers()'"
      ]
     },
     "execution_count": 5,
     "metadata": {},
     "output_type": "execute_result"
    }
   ],
   "source": [
    "'''# initialize all variables in the session\n",
    "fine_tune_train_op = tf.train.AdamOptimizer(learning_rate=1e-7, beta1=0.9, beta2=0.999,\n",
    "                            epsilon=1e-08, use_locking=False).minimize(cost, var_list=train_params)\n",
    "tl.layers.initialize_global_variables(sess)\n",
    "load_params = tl.files.load_npz(path='', name=\"tf.CNNV0.2.1_0.938058_2017-02-12-23-44-37.npz\")\n",
    "tl.files.assign_params(sess, load_params, network)\n",
    "# print network information\n",
    "#network.print_params()\n",
    "network.print_layers()'''"
   ]
  },
  {
   "cell_type": "code",
   "execution_count": 6,
   "metadata": {
    "collapsed": false,
    "scrolled": true
   },
   "outputs": [
    {
     "name": "stdout",
     "output_type": "stream",
     "text": [
      "Start training the network ...\n",
      "Epoch 1 of 70 took 17.524252s\n",
      "   train loss: 2.245979\n",
      "   train acc: 0.190106\n",
      "   val loss: 2.249835\n",
      "   val acc: 0.181370\n",
      "Epoch 2 of 70 took 16.862758s\n",
      "   train loss: 2.236321\n",
      "   train acc: 0.190076\n",
      "   val loss: 2.243027\n",
      "   val acc: 0.181507\n",
      "Epoch 3 of 70 took 16.865281s\n",
      "   train loss: 2.236485\n",
      "   train acc: 0.189985\n",
      "   val loss: 2.244061\n",
      "   val acc: 0.182055\n",
      "Epoch 4 of 70 took 17.169748s\n",
      "   train loss: 2.238357\n",
      "   train acc: 0.190106\n",
      "   val loss: 2.244335\n",
      "   val acc: 0.181644\n",
      "Epoch 5 of 70 took 16.869674s\n",
      "   train loss: 2.235783\n",
      "   train acc: 0.190000\n",
      "   val loss: 2.242671\n",
      "   val acc: 0.181918\n"
     ]
    },
    {
     "ename": "KeyboardInterrupt",
     "evalue": "",
     "output_type": "error",
     "traceback": [
      "\u001b[0;31m---------------------------------------------------------------------------\u001b[0m",
      "\u001b[0;31mKeyboardInterrupt\u001b[0m                         Traceback (most recent call last)",
      "\u001b[0;32m<ipython-input-6-0787a96b9906>\u001b[0m in \u001b[0;36m<module>\u001b[0;34m()\u001b[0m\n\u001b[1;32m      1\u001b[0m tl.utils.fit(sess, network, train_op, cost, x_train, y_train, x, y_,\n\u001b[1;32m      2\u001b[0m              \u001b[0mX_val\u001b[0m\u001b[0;34m=\u001b[0m\u001b[0mx_val\u001b[0m\u001b[0;34m,\u001b[0m \u001b[0my_val\u001b[0m\u001b[0;34m=\u001b[0m\u001b[0my_val\u001b[0m\u001b[0;34m,\u001b[0m \u001b[0macc\u001b[0m\u001b[0;34m=\u001b[0m\u001b[0macc\u001b[0m\u001b[0;34m,\u001b[0m \u001b[0mbatch_size\u001b[0m\u001b[0;34m=\u001b[0m\u001b[0;36m100\u001b[0m\u001b[0;34m,\u001b[0m\u001b[0;34m\u001b[0m\u001b[0m\n\u001b[0;32m----> 3\u001b[0;31m              n_epoch=70, print_freq=1, eval_train=True)\n\u001b[0m",
      "\u001b[0;32m/home/cai/anaconda3/envs/py35/lib/python3.5/site-packages/tensorlayer/utils.py\u001b[0m in \u001b[0;36mfit\u001b[0;34m(sess, network, train_op, cost, X_train, y_train, x, y_, acc, batch_size, n_epoch, print_freq, X_val, y_val, eval_train, tensorboard, tensorboard_epoch_freq, tensorboard_weight_histograms, tensorboard_graph_vis)\u001b[0m\n\u001b[1;32m    114\u001b[0m             \u001b[0mfeed_dict\u001b[0m \u001b[0;34m=\u001b[0m \u001b[0;34m{\u001b[0m\u001b[0mx\u001b[0m\u001b[0;34m:\u001b[0m \u001b[0mX_train_a\u001b[0m\u001b[0;34m,\u001b[0m \u001b[0my_\u001b[0m\u001b[0;34m:\u001b[0m \u001b[0my_train_a\u001b[0m\u001b[0;34m}\u001b[0m\u001b[0;34m\u001b[0m\u001b[0m\n\u001b[1;32m    115\u001b[0m             \u001b[0mfeed_dict\u001b[0m\u001b[0;34m.\u001b[0m\u001b[0mupdate\u001b[0m\u001b[0;34m(\u001b[0m \u001b[0mnetwork\u001b[0m\u001b[0;34m.\u001b[0m\u001b[0mall_drop\u001b[0m \u001b[0;34m)\u001b[0m    \u001b[0;31m# enable noise layers\u001b[0m\u001b[0;34m\u001b[0m\u001b[0m\n\u001b[0;32m--> 116\u001b[0;31m             \u001b[0mloss\u001b[0m\u001b[0;34m,\u001b[0m \u001b[0m_\u001b[0m \u001b[0;34m=\u001b[0m \u001b[0msess\u001b[0m\u001b[0;34m.\u001b[0m\u001b[0mrun\u001b[0m\u001b[0;34m(\u001b[0m\u001b[0;34m[\u001b[0m\u001b[0mcost\u001b[0m\u001b[0;34m,\u001b[0m \u001b[0mtrain_op\u001b[0m\u001b[0;34m]\u001b[0m\u001b[0;34m,\u001b[0m \u001b[0mfeed_dict\u001b[0m\u001b[0;34m=\u001b[0m\u001b[0mfeed_dict\u001b[0m\u001b[0;34m)\u001b[0m\u001b[0;34m\u001b[0m\u001b[0m\n\u001b[0m\u001b[1;32m    117\u001b[0m             \u001b[0mloss_ep\u001b[0m \u001b[0;34m+=\u001b[0m \u001b[0mloss\u001b[0m\u001b[0;34m\u001b[0m\u001b[0m\n\u001b[1;32m    118\u001b[0m             \u001b[0mn_step\u001b[0m \u001b[0;34m+=\u001b[0m \u001b[0;36m1\u001b[0m\u001b[0;34m\u001b[0m\u001b[0m\n",
      "\u001b[0;32m/home/cai/anaconda3/envs/py35/lib/python3.5/site-packages/tensorflow/python/client/session.py\u001b[0m in \u001b[0;36mrun\u001b[0;34m(self, fetches, feed_dict, options, run_metadata)\u001b[0m\n\u001b[1;32m    764\u001b[0m     \u001b[0;32mtry\u001b[0m\u001b[0;34m:\u001b[0m\u001b[0;34m\u001b[0m\u001b[0m\n\u001b[1;32m    765\u001b[0m       result = self._run(None, fetches, feed_dict, options_ptr,\n\u001b[0;32m--> 766\u001b[0;31m                          run_metadata_ptr)\n\u001b[0m\u001b[1;32m    767\u001b[0m       \u001b[0;32mif\u001b[0m \u001b[0mrun_metadata\u001b[0m\u001b[0;34m:\u001b[0m\u001b[0;34m\u001b[0m\u001b[0m\n\u001b[1;32m    768\u001b[0m         \u001b[0mproto_data\u001b[0m \u001b[0;34m=\u001b[0m \u001b[0mtf_session\u001b[0m\u001b[0;34m.\u001b[0m\u001b[0mTF_GetBuffer\u001b[0m\u001b[0;34m(\u001b[0m\u001b[0mrun_metadata_ptr\u001b[0m\u001b[0;34m)\u001b[0m\u001b[0;34m\u001b[0m\u001b[0m\n",
      "\u001b[0;32m/home/cai/anaconda3/envs/py35/lib/python3.5/site-packages/tensorflow/python/client/session.py\u001b[0m in \u001b[0;36m_run\u001b[0;34m(self, handle, fetches, feed_dict, options, run_metadata)\u001b[0m\n\u001b[1;32m    962\u001b[0m     \u001b[0;32mif\u001b[0m \u001b[0mfinal_fetches\u001b[0m \u001b[0;32mor\u001b[0m \u001b[0mfinal_targets\u001b[0m\u001b[0;34m:\u001b[0m\u001b[0;34m\u001b[0m\u001b[0m\n\u001b[1;32m    963\u001b[0m       results = self._do_run(handle, final_targets, final_fetches,\n\u001b[0;32m--> 964\u001b[0;31m                              feed_dict_string, options, run_metadata)\n\u001b[0m\u001b[1;32m    965\u001b[0m     \u001b[0;32melse\u001b[0m\u001b[0;34m:\u001b[0m\u001b[0;34m\u001b[0m\u001b[0m\n\u001b[1;32m    966\u001b[0m       \u001b[0mresults\u001b[0m \u001b[0;34m=\u001b[0m \u001b[0;34m[\u001b[0m\u001b[0;34m]\u001b[0m\u001b[0;34m\u001b[0m\u001b[0m\n",
      "\u001b[0;32m/home/cai/anaconda3/envs/py35/lib/python3.5/site-packages/tensorflow/python/client/session.py\u001b[0m in \u001b[0;36m_do_run\u001b[0;34m(self, handle, target_list, fetch_list, feed_dict, options, run_metadata)\u001b[0m\n\u001b[1;32m   1012\u001b[0m     \u001b[0;32mif\u001b[0m \u001b[0mhandle\u001b[0m \u001b[0;32mis\u001b[0m \u001b[0;32mNone\u001b[0m\u001b[0;34m:\u001b[0m\u001b[0;34m\u001b[0m\u001b[0m\n\u001b[1;32m   1013\u001b[0m       return self._do_call(_run_fn, self._session, feed_dict, fetch_list,\n\u001b[0;32m-> 1014\u001b[0;31m                            target_list, options, run_metadata)\n\u001b[0m\u001b[1;32m   1015\u001b[0m     \u001b[0;32melse\u001b[0m\u001b[0;34m:\u001b[0m\u001b[0;34m\u001b[0m\u001b[0m\n\u001b[1;32m   1016\u001b[0m       return self._do_call(_prun_fn, self._session, handle, feed_dict,\n",
      "\u001b[0;32m/home/cai/anaconda3/envs/py35/lib/python3.5/site-packages/tensorflow/python/client/session.py\u001b[0m in \u001b[0;36m_do_call\u001b[0;34m(self, fn, *args)\u001b[0m\n\u001b[1;32m   1019\u001b[0m   \u001b[0;32mdef\u001b[0m \u001b[0m_do_call\u001b[0m\u001b[0;34m(\u001b[0m\u001b[0mself\u001b[0m\u001b[0;34m,\u001b[0m \u001b[0mfn\u001b[0m\u001b[0;34m,\u001b[0m \u001b[0;34m*\u001b[0m\u001b[0margs\u001b[0m\u001b[0;34m)\u001b[0m\u001b[0;34m:\u001b[0m\u001b[0;34m\u001b[0m\u001b[0m\n\u001b[1;32m   1020\u001b[0m     \u001b[0;32mtry\u001b[0m\u001b[0;34m:\u001b[0m\u001b[0;34m\u001b[0m\u001b[0m\n\u001b[0;32m-> 1021\u001b[0;31m       \u001b[0;32mreturn\u001b[0m \u001b[0mfn\u001b[0m\u001b[0;34m(\u001b[0m\u001b[0;34m*\u001b[0m\u001b[0margs\u001b[0m\u001b[0;34m)\u001b[0m\u001b[0;34m\u001b[0m\u001b[0m\n\u001b[0m\u001b[1;32m   1022\u001b[0m     \u001b[0;32mexcept\u001b[0m \u001b[0merrors\u001b[0m\u001b[0;34m.\u001b[0m\u001b[0mOpError\u001b[0m \u001b[0;32mas\u001b[0m \u001b[0me\u001b[0m\u001b[0;34m:\u001b[0m\u001b[0;34m\u001b[0m\u001b[0m\n\u001b[1;32m   1023\u001b[0m       \u001b[0mmessage\u001b[0m \u001b[0;34m=\u001b[0m \u001b[0mcompat\u001b[0m\u001b[0;34m.\u001b[0m\u001b[0mas_text\u001b[0m\u001b[0;34m(\u001b[0m\u001b[0me\u001b[0m\u001b[0;34m.\u001b[0m\u001b[0mmessage\u001b[0m\u001b[0;34m)\u001b[0m\u001b[0;34m\u001b[0m\u001b[0m\n",
      "\u001b[0;32m/home/cai/anaconda3/envs/py35/lib/python3.5/site-packages/tensorflow/python/client/session.py\u001b[0m in \u001b[0;36m_run_fn\u001b[0;34m(session, feed_dict, fetch_list, target_list, options, run_metadata)\u001b[0m\n\u001b[1;32m   1001\u001b[0m         return tf_session.TF_Run(session, options,\n\u001b[1;32m   1002\u001b[0m                                  \u001b[0mfeed_dict\u001b[0m\u001b[0;34m,\u001b[0m \u001b[0mfetch_list\u001b[0m\u001b[0;34m,\u001b[0m \u001b[0mtarget_list\u001b[0m\u001b[0;34m,\u001b[0m\u001b[0;34m\u001b[0m\u001b[0m\n\u001b[0;32m-> 1003\u001b[0;31m                                  status, run_metadata)\n\u001b[0m\u001b[1;32m   1004\u001b[0m \u001b[0;34m\u001b[0m\u001b[0m\n\u001b[1;32m   1005\u001b[0m     \u001b[0;32mdef\u001b[0m \u001b[0m_prun_fn\u001b[0m\u001b[0;34m(\u001b[0m\u001b[0msession\u001b[0m\u001b[0;34m,\u001b[0m \u001b[0mhandle\u001b[0m\u001b[0;34m,\u001b[0m \u001b[0mfeed_dict\u001b[0m\u001b[0;34m,\u001b[0m \u001b[0mfetch_list\u001b[0m\u001b[0;34m)\u001b[0m\u001b[0;34m:\u001b[0m\u001b[0;34m\u001b[0m\u001b[0m\n",
      "\u001b[0;31mKeyboardInterrupt\u001b[0m: "
     ]
    }
   ],
   "source": [
    "tl.utils.fit(sess, network, train_op, cost, x_train, y_train, x, y_,\n",
    "             X_val=x_val, y_val=y_val, acc=acc, batch_size=100, \n",
    "             n_epoch=70, print_freq=1, eval_train=True)"
   ]
  },
  {
   "cell_type": "markdown",
   "metadata": {},
   "source": [
    "Then we fine tune the model"
   ]
  },
  {
   "cell_type": "code",
   "execution_count": 7,
   "metadata": {
    "collapsed": false
   },
   "outputs": [
    {
     "data": {
      "text/plain": [
       "'fine_tune_train_op = tf.train.AdamOptimizer(learning_rate=1e-7, beta1=0.9, beta2=0.999,\\n                            epsilon=1e-08, use_locking=False).minimize(cost, var_list=train_params)\\ntl.utils.fit(sess, network, fine_tune_train_op, cost, x_train, y_train, x, y_,\\n             X_val=x_val, y_val=y_val, acc=acc, batch_size=100, \\n             n_epoch=70, print_freq=1, eval_train=True)'"
      ]
     },
     "execution_count": 7,
     "metadata": {},
     "output_type": "execute_result"
    }
   ],
   "source": [
    "'''fine_tune_train_op = tf.train.AdamOptimizer(learning_rate=1e-7, beta1=0.9, beta2=0.999,\n",
    "                            epsilon=1e-08, use_locking=False).minimize(cost, var_list=train_params)\n",
    "tl.utils.fit(sess, network, fine_tune_train_op, cost, x_train, y_train, x, y_,\n",
    "             X_val=x_val, y_val=y_val, acc=acc, batch_size=100, \n",
    "             n_epoch=70, print_freq=1, eval_train=True)'''"
   ]
  },
  {
   "cell_type": "code",
   "execution_count": 7,
   "metadata": {
    "collapsed": false,
    "scrolled": true
   },
   "outputs": [
    {
     "name": "stdout",
     "output_type": "stream",
     "text": [
      "Start testing the network ...\n",
      "   test acc: 0.922991\n"
     ]
    }
   ],
   "source": [
    "validation_accu = tl.utils.test(sess, network, acc, x_val, y_val, x, y_, batch_size=256);"
   ]
  },
  {
   "cell_type": "code",
   "execution_count": 8,
   "metadata": {
    "collapsed": false,
    "scrolled": true
   },
   "outputs": [
    {
     "name": "stdout",
     "output_type": "stream",
     "text": [
      "Model is saved to: tf.CNNV0.2.1_0.967634_2017-02-12-23-49-19.npz\n"
     ]
    }
   ],
   "source": [
    "file_name = time.strftime(time.strftime(\"%Y-%m-%d-%H-%M-%S\", time.localtime()))\n",
    "tl.files.save_npz(network.all_params , name=\"tf.CNNV0.2.1_\" + str(0.938058) + \"_\" + file_name + \".npz\")"
   ]
  },
  {
   "cell_type": "code",
   "execution_count": 9,
   "metadata": {
    "collapsed": true
   },
   "outputs": [],
   "source": [
    "x_test = pd.read_csv(\"data/test.csv\")"
   ]
  },
  {
   "cell_type": "code",
   "execution_count": 10,
   "metadata": {
    "collapsed": true
   },
   "outputs": [],
   "source": [
    "x_test = np.array(x_test).reshape(32, 32, 3, -1).transpose(3,0,1,2)"
   ]
  },
  {
   "cell_type": "code",
   "execution_count": 11,
   "metadata": {
    "collapsed": false,
    "scrolled": false
   },
   "outputs": [
    {
     "data": {
      "text/plain": [
       "<matplotlib.image.AxesImage at 0x7f0d674a39e8>"
      ]
     },
     "execution_count": 11,
     "metadata": {},
     "output_type": "execute_result"
    },
    {
     "data": {
      "image/png": "[encoded data removed]",
      "text/plain": [
       "<matplotlib.figure.Figure at 0x7f0d67493908>"
      ]
     },
     "metadata": {},
     "output_type": "display_data"
    }
   ],
   "source": [
    "plt.imshow(x_test[1].astype(\"uint8\"))"
   ]
  },
  {
   "cell_type": "code",
   "execution_count": 12,
   "metadata": {
    "collapsed": false
   },
   "outputs": [
    {
     "data": {
      "text/plain": [
       "array([2])"
      ]
     },
     "execution_count": 12,
     "metadata": {},
     "output_type": "execute_result"
    }
   ],
   "source": [
    "tl.utils.predict(sess, network, x_test[1].reshape(-1,32,32,3), x, y_op)"
   ]
  },
  {
   "cell_type": "code",
   "execution_count": 13,
   "metadata": {
    "collapsed": false
   },
   "outputs": [
    {
     "name": "stdout",
     "output_type": "stream",
     "text": [
      "Submission file created!\n"
     ]
    }
   ],
   "source": [
    "res_list = list()\n",
    "for i in x_test:\n",
    "    pred = tl.utils.predict(sess, network, i.reshape(-1,32,32,3), x, y_op)[0]\n",
    "    res_list.append(pred)\n",
    "\n",
    "res_list = np.array(res_list)\n",
    "res_list[res_list == 0] = 10\n",
    "\n",
    "res_output = pd.DataFrame({\n",
    "    \"ImageId\": range(len(res_list)),\n",
    "    \"label\": res_list\n",
    "})\n",
    "filename = \"res_\" + time.strftime(time.strftime(\"%Y-%m-%d-%H-%M-%S\", time.localtime())) + \".csv\"\n",
    "res_output.to_csv(filename, index=False)\n",
    "\n",
    "print(\"Submission file created!\")"
   ]
  },
  {
   "cell_type": "code",
   "execution_count": null,
   "metadata": {
    "collapsed": true
   },
   "outputs": [],
   "source": []
  }
 ],
 "metadata": {
  "anaconda-cloud": {},
  "kernelspec": {
   "display_name": "Python [default]",
   "language": "python",
   "name": "python3"
  },
  "language_info": {
   "codemirror_mode": {
    "name": "ipython",
    "version": 3
   },
   "file_extension": ".py",
   "mimetype": "text/x-python",
   "name": "python",
   "nbconvert_exporter": "python",
   "pygments_lexer": "ipython3",
   "version": "3.5.2"
  }
 },
 "nbformat": 4,
 "nbformat_minor": 2
}
